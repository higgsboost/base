{
 "cells": [
  {
   "cell_type": "markdown",
   "metadata": {},
   "source": [
    "## Gradient boosted trees\n",
    "\n",
    "Based on Tianqi Chen [link](https://homes.cs.washington.edu/~tqchen/pdf/BoostedTree.pdf).\n",
    "\n",
    "#### Supervised learning\n",
    "In supervised learning, the $i$-th training example is $x_i \\in \\mathbb{R}^d$, and we are trying to make a prediction $\\hat{y}_i$. Linear models have the format $\\hat{y}_i = \\sum_j w_j x_{ij} $. For linear regression $\\hat{y}_i$ is the predicted score, while in logistic regression $\\frac{1}{1+exp(-\\hat{y}_i))}$ is the predicted probability of the instance $i$ being positive.\n",
    "\n",
    "In linear models we are trying to learn the weights $\\Theta = \\{w_j | j = 1, ..., d\\}$. Thus the objective function is $obj(\\Theta) = L(\\Theta) + \\Omega(\\Theta)$. $L$ is the training loss which can be the square loss $y_i - \\hat{y}_i$, or the logistic loss $y_i \\ln(1 + e^{-\\hat{y}_i}) + (1 - y_i)\\ln(1 + e^{\\hat{y}_i})$ (note previous losses are individual but needs to be sum to get total). The $\\Omega$ function is the regularization function, which measures the complexity of the model, which can be the $L2$ norm $\\lambda ||w||^2$, or $L1$ norm $\\lambda ||w||_1$. Reminder that $||x||_1 = (|x_1| + ... + |x_n|)$.\n",
    "\n",
    "So finally\n",
    "* Ridge regression: $$\\sum_i (y_i - w^T x_i)^2 + \\lambda ||w||^2$$\n",
    "* Lasso: $$\\sum_i (y_i - w^T x_i)^2 + \\lambda ||w||_1$$\n",
    "* Logistic regression: $$\\sum_i [y_i \\ln(1 + e^{-\\hat{y}_i}) + (1 - y_i)\\ln(1 + e^{\\hat{y}_i})] + \\lambda ||w||^2$$\n",
    "\n",
    "## Regression Tree (A.K.A classification and regression tree CART)\n",
    "\n"
   ]
  },
  {
   "cell_type": "code",
   "execution_count": null,
   "metadata": {},
   "outputs": [],
   "source": []
  }
 ],
 "metadata": {
  "kernelspec": {
   "display_name": "Python 3",
   "language": "python",
   "name": "python3"
  },
  "language_info": {
   "codemirror_mode": {
    "name": "ipython",
    "version": 3
   },
   "file_extension": ".py",
   "mimetype": "text/x-python",
   "name": "python",
   "nbconvert_exporter": "python",
   "pygments_lexer": "ipython3",
   "version": "3.6.5"
  }
 },
 "nbformat": 4,
 "nbformat_minor": 2
}
