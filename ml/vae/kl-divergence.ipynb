{
 "cells": [
  {
   "cell_type": "markdown",
   "metadata": {},
   "source": [
    "## KL divergence\n",
    "\n",
    "Based on [link](https://www.countbayesie.com/blog/2017/5/9/kullback-leibler-divergence-explained)\n",
    "\n",
    "Kullback-Leibler (KL) divergence is a way of comparing two probability distributions. This is to reduce the complex distribution of observed data with a simpler approximation. KL divergence helps us to measure how much information we have lost when we choose an approximation.\n",
    "\n",
    "#### Entropy of a distribution\n",
    "\n",
    "KL divergence is originated from information theory where the goal is the quantify how much information is in a dataset. Entropy is defined as\n",
    "\n",
    "$$H = -\\sum_{i=1}^{N} p(x_i) \\log p(x_i)$$"
   ]
  },
  {
   "cell_type": "markdown",
   "metadata": {},
   "source": [
    "## Information loss using KL divergence\n",
    "\n",
    "KL divergence modifies above equation by having the real probability distribution $p$ with an approximated distribution $q$, then take the differences in log values of the two:\n",
    "\n",
    "$$D_{KL}(p||q) = \\sum_{i=1}^N p(x_i) (\\log p(x_i) - \\log q(x_i)) = \\sum_{i=1}^N p(x_i) \\frac{\\log p(x_i)} {\\log q(x_i)}$$\n",
    "\n",
    "Or we can write\n",
    "\n",
    "$$D_{KL}(p||q) = E[\\log p(x_i) - \\log q(x_i)]$$\n",
    "\n",
    "Which is the expectation of the log difference between the original vs the approximated distribution.\n",
    "\n",
    "Note that KL divergence is not symmetric i.e. $D_{kl} (a,b) \\neq D_{kl} (b,a)$\n",
    "\n",
    "## How to optimize\n",
    "\n",
    "To optimize for a KL divergence we can simply set it to be the objective function.\n"
   ]
  },
  {
   "cell_type": "code",
   "execution_count": null,
   "metadata": {},
   "outputs": [],
   "source": []
  }
 ],
 "metadata": {
  "kernelspec": {
   "display_name": "Python 2",
   "language": "python",
   "name": "python2"
  },
  "language_info": {
   "codemirror_mode": {
    "name": "ipython",
    "version": 3
   },
   "file_extension": ".py",
   "mimetype": "text/x-python",
   "name": "python",
   "nbconvert_exporter": "python",
   "pygments_lexer": "ipython3",
   "version": "3.5.2"
  }
 },
 "nbformat": 4,
 "nbformat_minor": 4
}
