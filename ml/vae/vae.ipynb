{
 "cells": [
  {
   "cell_type": "markdown",
   "metadata": {},
   "source": [
    "### Variational autoencoder (VAE)\n",
    "\n",
    "Based on Agustinus Kristladl's blog [link](https://wiseodd.github.io/techblog/2016/12/10/variational-autoencoder/)"
   ]
  },
  {
   "cell_type": "markdown",
   "metadata": {},
   "source": [
    "VAE is trying to generate data based on some `latent variable`, which is different from vanilla `GANS` that tries to generate data blindly."
   ]
  },
  {
   "cell_type": "markdown",
   "metadata": {},
   "source": [
    "### A game\n",
    "Before we start let's play a little game. Source [link](https://towardsdatascience.com/probability-concepts-explained-marginalisation-2296846344fc).\n",
    "\n",
    "Suppose we have four dice: 4-sided die, 6-sided die, 8-sided die and a 10-sided die (as shown below).\n",
    "\n",
    "The game:\n",
    "\n",
    "- I put a six-sided and an eight-sided die in a red box and a four-sided and ten-sided die in a blue box.\n",
    "- I select a die from each of the red and blue boxes at random and put them in a yellow box.\n",
    "- I select a die at random from the yellow box, roll the die and tell you the result.\n",
    "\n",
    "After playing the game we are told the result is 3. The question that we want to answer is: Did the die most likely come from the red box or the blue box originally?\n",
    "\n",
    "\n",
    "\n",
    "\n",
    "\n",
    "p(3| red) = 1/6 + 1/8 = 7/24\n",
    "p(3 | blue) = 1/4 + 1/10 = 14/40 = 7/20\n",
    "\n",
    "p(3 | yellow ) = \n",
    "\n",
    "\n",
    "\n",
    "p(3|red) vs p(3|blue)"
   ]
  },
  {
   "cell_type": "code",
   "execution_count": null,
   "metadata": {},
   "outputs": [],
   "source": []
  }
 ],
 "metadata": {
  "kernelspec": {
   "display_name": "Python 2",
   "language": "python",
   "name": "python2"
  },
  "language_info": {
   "codemirror_mode": {
    "name": "ipython",
    "version": 2
   },
   "file_extension": ".py",
   "mimetype": "text/x-python",
   "name": "python",
   "nbconvert_exporter": "python",
   "pygments_lexer": "ipython2",
   "version": "2.7.15+"
  }
 },
 "nbformat": 4,
 "nbformat_minor": 2
}
